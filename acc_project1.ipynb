{
 "cells": [
  {
   "cell_type": "code",
   "execution_count": 6,
   "metadata": {},
   "outputs": [
    {
     "name": "stdout",
     "output_type": "stream",
     "text": [
      "<a class=\"title may-blank outbound\" data-event-action=\"title\" data-href-url=\"https://www.youtube.com/watch?v=bV9PJ0ZOtDg\" data-outbound-expiration=\"1528845510000\" data-outbound-url=\"https://out.reddit.com/t3_8qiutr?url=https%3A%2F%2Fwww.youtube.com%2Fwatch%3Fv%3DbV9PJ0ZOtDg&amp;token=AQAAxlQgW_RUJUw9zOrX2Q9GyIsSN4dI4gitSvq_AdDTlWnyjwvR&amp;app_name=reddit.com\" href=\"https://www.youtube.com/watch?v=bV9PJ0ZOtDg\" rel=\"\" tabindex=\"1\">Raw footage of U.S. and French forces on the road to and inside Paris in July 1944</a>\n",
      "[]\n"
     ]
    }
   ],
   "source": [
    "import bs4 as BeautifulSoup\n",
    "import re \n",
    "from bs4 import BeautifulSoup\n",
    "import requests\n",
    "import urllib.request\n",
    "\n",
    "url = \"https://old.reddit.com/r/CombatFootage/top/\"\n",
    "\n",
    "request = urllib.request.Request(url)\n",
    "html = urllib.request.urlopen(request).read()\n",
    "\n",
    "soup = BeautifulSoup(html, 'html.parser')\n",
    "\n",
    "main_table = soup.find('a', attrs={'class':'title may-blank outbound'})\n",
    "\n",
    "print(main_table)\n",
    "\n",
    "#links = main_table.find_all('a', clasS='title')\n",
    "\n",
    "extracted_records = []\n",
    "\n",
    "for link in links:\n",
    "    if keyword in links:\n",
    "        title = link.text\n",
    "        url = link['href']\n",
    "        record = {\n",
    "            'title' : title,\n",
    "            'url' : url\n",
    "            }\n",
    "        extracted_records.append(record)\n",
    "\n",
    "print(extracted_records)\n",
    "\n",
    "#for link in soup.find_all('a'):\n",
    "#    print(link.get('href'))\n",
    "\n",
    "#keyword = 'ATGM'\n",
    "\n",
    "#soup.find_all('a')\n",
    "\n",
    "#matches = []\n",
    "\n",
    "#for submission in subreddit.hot(limit=100):\n",
    "#    if keyword in submission.title:\n",
    "#        m = {\n",
    "#            'title': submission.title,\n",
    "#            'id': submission.id,\n",
    "#            'url': submission.url\n",
    "#        }\n",
    "#        matches.append(m)\n"
   ]
  },
  {
   "cell_type": "code",
   "execution_count": null,
   "metadata": {},
   "outputs": [],
   "source": []
  },
  {
   "cell_type": "code",
   "execution_count": null,
   "metadata": {},
   "outputs": [],
   "source": []
  }
 ],
 "metadata": {
  "kernelspec": {
   "display_name": "Python 3",
   "language": "python",
   "name": "python3"
  },
  "language_info": {
   "codemirror_mode": {
    "name": "ipython",
    "version": 3
   },
   "file_extension": ".py",
   "mimetype": "text/x-python",
   "name": "python",
   "nbconvert_exporter": "python",
   "pygments_lexer": "ipython3",
   "version": "3.6.5"
  }
 },
 "nbformat": 4,
 "nbformat_minor": 2
}
