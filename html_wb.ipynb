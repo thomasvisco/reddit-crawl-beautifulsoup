{
 "cells": [
  {
   "cell_type": "code",
   "execution_count": 3,
   "metadata": {},
   "outputs": [
    {
     "name": "stdout",
     "output_type": "stream",
     "text": [
      "<p class=\"title\"><a class=\"title may-blank outbound\" data-event-action=\"title\" data-href-url=\"https://www.youtube.com/watch?v=oxTCiialgkU&amp;t\" data-outbound-expiration=\"1528907441000\" data-outbound-url=\"https://out.reddit.com/t3_8qofn2?url=https%3A%2F%2Fwww.youtube.com%2Fwatch%3Fv%3DoxTCiialgkU%26t&amp;token=AQAAsUYhWwRB-Pyz9T5SaKNLErOHQX2GK-phpsONgmloBQnPmmCJ&amp;app_name=reddit.com\" href=\"https://www.youtube.com/watch?v=oxTCiialgkU&amp;t\" rel=\"\" tabindex=\"1\">Airborne - American Paratroopers 1944 [HD Colour]</a> <span class=\"domain\">(<a href=\"/domain/youtube.com/\">youtube.com</a>)</span></p>\n"
     ]
    }
   ],
   "source": [
    "import bs4 as BeautifulSoup\n",
    "from bs4 import BeautifulSoup\n",
    "\n",
    "soup = BeautifulSoup(open('/home/tav/dev/acc/reddit-crawl-beautifulsoup/reddit.html'), 'html.parser')\n",
    "\n",
    "#print(soup)\n",
    "\n",
    "main_table = soup.find('div', attrs={'class':'entry'})\n",
    "\n",
    "#print(main_table)\n",
    "\n",
    "links = main_table.find('p', attrs={'class':'title may-blank outbound'})\n",
    "\n",
    "#print(links)\n",
    "\n",
    "title = soup.find('p', attrs={'class': 'title'})\n",
    "\n",
    "print(title)"
   ]
  },
  {
   "cell_type": "code",
   "execution_count": null,
   "metadata": {},
   "outputs": [],
   "source": []
  }
 ],
 "metadata": {
  "kernelspec": {
   "display_name": "Python 3",
   "language": "python",
   "name": "python3"
  },
  "language_info": {
   "codemirror_mode": {
    "name": "ipython",
    "version": 3
   },
   "file_extension": ".py",
   "mimetype": "text/x-python",
   "name": "python",
   "nbconvert_exporter": "python",
   "pygments_lexer": "ipython3",
   "version": "3.6.5"
  }
 },
 "nbformat": 4,
 "nbformat_minor": 2
}
